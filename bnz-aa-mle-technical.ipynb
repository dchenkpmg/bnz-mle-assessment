{
 "cells": [
  {
   "cell_type": "code",
   "execution_count": 5,
   "metadata": {},
   "outputs": [],
   "source": [
    "import duckdb\n",
    "import pandas as pd"
   ]
  },
  {
   "cell_type": "code",
   "execution_count": 6,
   "metadata": {},
   "outputs": [],
   "source": [
    "# Load the data in\n",
    "financial_table = duckdb.read_csv('data/business-financial-data-march-2024-csv.csv')\n",
    "employee_table = duckdb.read_csv('data/machine-readable-business-employment-data-mar-2024-quarter.csv')"
   ]
  },
  {
   "cell_type": "markdown",
   "metadata": {},
   "source": [
    "### Questions\n",
    "\n",
    "1. Of the industries where salaries and wages data did NOT exist in 2016 and only appeared later, which industry had the highest average value for actual filled jobs across time and what was that value?\n",
    "\n",
    "2. Provide the answer and write a DuckDB SQL query to show which year/month combination and industry had the second highest seasonally adjusted operating income sales across all business industries in New Zealand that are categorised as NZSIOC level 2.\n",
    "\n",
    "3. Create a DuckDB SQL query to calculate the quarterly cumulative number of filled jobs over time for the territorial authority with the highest average value of filled jobs across time. **You may not use window functions in your query.**\n",
    "\n",
    "4. Assume these datasets are used in part of a pipeline where the file that arrives may contain unwanted duplicates, incorrect datatypes, missing dates or other data quality aberrations. What things could be done programmatically to make sure the input data is of adequate quality and improve the pipeline?\n",
    "\n",
    "5. Create summary statistics and perform a statistical analysis or create a model using the provided datasets. We are interested in your justification for your choices and reasoning. You may join the data to other datasets from https://www.stats.govt.nz/large-datasets/csv-files-for-download/ if you wish.\n"
   ]
  },
  {
   "cell_type": "markdown",
   "metadata": {},
   "source": [
    "### 1. \n"
   ]
  },
  {
   "cell_type": "code",
   "execution_count": 7,
   "metadata": {},
   "outputs": [
    {
     "data": {
      "text/plain": [
       "┌──────────────┬─────────────────────┐\n",
       "│   Industry   │ Average_Filled_Jobs │\n",
       "│   varchar    │       double        │\n",
       "├──────────────┼─────────────────────┤\n",
       "│ Retail Trade │  194053.71153846153 │\n",
       "└──────────────┴─────────────────────┘"
      ]
     },
     "execution_count": 7,
     "metadata": {},
     "output_type": "execute_result"
    }
   ],
   "source": [
    "query = \"\"\"\n",
    "WITH industries_with_salaries_2016 AS (\n",
    "    SELECT DISTINCT\n",
    "        Series_title_2 AS Industry\n",
    "    FROM\n",
    "        financial_table\n",
    "    WHERE\n",
    "        Series_title_1 = 'Salaries and wages'\n",
    "        AND strftime('%Y-%m', strptime(CAST(Period AS VARCHAR), '%Y.%m')) BETWEEN '2016-01' AND '2016-12'\n",
    "),\n",
    "industries_with_salaries_after_2016 AS (\n",
    "    SELECT DISTINCT\n",
    "        Series_title_2 AS Industry\n",
    "    FROM\n",
    "        financial_table\n",
    "    WHERE\n",
    "        Series_title_1 = 'Salaries and wages'\n",
    "        AND strftime('%Y-%m', strptime(CAST(Period AS VARCHAR), '%Y.%m')) > '2016-12'\n",
    "),\n",
    "industries_of_interest AS (\n",
    "    SELECT\n",
    "        Industry\n",
    "    FROM\n",
    "        industries_with_salaries_after_2016\n",
    "    WHERE\n",
    "        Industry NOT IN (SELECT Industry FROM industries_with_salaries_2016) -- select from previous CTE\n",
    "),\n",
    "average_filled_jobs AS (\n",
    "    SELECT\n",
    "        Series_title_2 AS Industry,\n",
    "        AVG(Data_value) AS Average_Filled_Jobs\n",
    "    FROM\n",
    "        employee_table\n",
    "    WHERE\n",
    "        Series_title_1 = 'Filled jobs'\n",
    "        AND Series_title_3 = 'Actual'\n",
    "        AND \"Group\" = 'Industry by employment variable'\n",
    "        AND Series_title_2 IN (SELECT Industry FROM industries_of_interest)\n",
    "    GROUP BY\n",
    "        Series_title_2\n",
    ")\n",
    "SELECT\n",
    "    Industry,\n",
    "    Average_Filled_Jobs\n",
    "FROM\n",
    "    average_filled_jobs\n",
    "ORDER BY\n",
    "    Average_Filled_Jobs DESC\n",
    "LIMIT 1;\n",
    "\"\"\"\n",
    "\n",
    "duckdb.sql(query)"
   ]
  },
  {
   "cell_type": "markdown",
   "metadata": {},
   "source": [
    "Answer: Retail Trade, with a value of 194053"
   ]
  },
  {
   "cell_type": "markdown",
   "metadata": {},
   "source": [
    "### 2."
   ]
  },
  {
   "cell_type": "code",
   "execution_count": 10,
   "metadata": {},
   "outputs": [
    {
     "data": {
      "text/plain": [
       "┌─────────┬─────────────────┬──────────────────┐\n",
       "│ Period  │    Industry     │ Operating_Income │\n",
       "│ double  │     varchar     │      double      │\n",
       "├─────────┼─────────────────┼──────────────────┤\n",
       "│ 2023.03 │ Wholesale Trade │        38810.022 │\n",
       "└─────────┴─────────────────┴──────────────────┘"
      ]
     },
     "execution_count": 10,
     "metadata": {},
     "output_type": "execute_result"
    }
   ],
   "source": [
    "query = \"\"\"\n",
    "WITH filtered_data AS (\n",
    "    SELECT\n",
    "        Period,\n",
    "        Series_title_2 AS Industry,\n",
    "        Data_value AS Operating_Income\n",
    "    FROM\n",
    "        financial_table\n",
    "    WHERE\n",
    "        \"Group\" = 'Industry by financial variable (NZSIOC Level 2)'\n",
    "        AND Series_title_1 = 'Sales (operating income)'\n",
    "        AND Series_title_4 = 'Seasonally adjusted'\n",
    ")\n",
    "SELECT\n",
    "    Period,\n",
    "    Industry,\n",
    "    Operating_Income\n",
    "FROM\n",
    "    filtered_data\n",
    "ORDER BY\n",
    "    Operating_Income DESC\n",
    "LIMIT 1 OFFSET 1;\n",
    "\"\"\"\n",
    "\n",
    "duckdb.sql(query)"
   ]
  },
  {
   "cell_type": "markdown",
   "metadata": {},
   "source": [
    "Answer: Wholesale Trade for the period of March 2023, with a value of 38810"
   ]
  },
  {
   "cell_type": "markdown",
   "metadata": {},
   "source": [
    "### 3."
   ]
  },
  {
   "cell_type": "code",
   "execution_count": 11,
   "metadata": {},
   "outputs": [
    {
     "data": {
      "text/plain": [
       "┌─────────┬────────────────────────┐\n",
       "│ Period  │ Cumulative_Filled_Jobs │\n",
       "│ double  │         double         │\n",
       "├─────────┼────────────────────────┤\n",
       "│ 2011.06 │               558627.0 │\n",
       "│ 2011.09 │              1124066.0 │\n",
       "│ 2011.12 │              1697795.0 │\n",
       "│ 2012.03 │              2258168.0 │\n",
       "│ 2012.06 │              2831106.0 │\n",
       "│ 2012.09 │              3401783.0 │\n",
       "│ 2012.12 │              3981507.0 │\n",
       "│ 2013.03 │              4556314.0 │\n",
       "│ 2013.06 │              5145225.0 │\n",
       "│ 2013.09 │              5731581.0 │\n",
       "│    ·    │                  ·     │\n",
       "│    ·    │                  ·     │\n",
       "│    ·    │                  ·     │\n",
       "│ 2021.12 │             28076457.0 │\n",
       "│ 2022.03 │             28818348.0 │\n",
       "│ 2022.06 │             29565489.0 │\n",
       "│ 2022.09 │             30314636.0 │\n",
       "│ 2022.12 │             31080627.0 │\n",
       "│ 2023.03 │             31847062.0 │\n",
       "│ 2023.06 │             32629158.0 │\n",
       "│ 2023.09 │             33411797.0 │\n",
       "│ 2023.12 │             34207477.0 │\n",
       "│ 2024.03 │             34995011.0 │\n",
       "├─────────┴────────────────────────┤\n",
       "│ 52 rows (20 shown)     2 columns │\n",
       "└──────────────────────────────────┘"
      ]
     },
     "execution_count": 11,
     "metadata": {},
     "output_type": "execute_result"
    }
   ],
   "source": [
    "query = \"\"\"\n",
    "WITH avg_filled_jobs AS (\n",
    "    SELECT\n",
    "        Series_title_2 AS Territorial_Authority,\n",
    "        AVG(Data_value) AS Average_Filled_Jobs\n",
    "    FROM\n",
    "        employee_table\n",
    "    WHERE\n",
    "        Series_title_1 = 'Filled jobs'\n",
    "        AND \"Group\" = 'Territorial authority by employment variable'\n",
    "    GROUP BY\n",
    "        Series_title_2\n",
    "),\n",
    "highest_avg_filled_jobs AS (\n",
    "    SELECT\n",
    "        Territorial_Authority \n",
    "    FROM\n",
    "        avg_filled_jobs\n",
    "    ORDER BY\n",
    "        Average_Filled_Jobs DESC\n",
    "    LIMIT 1\n",
    "),\n",
    "filtered_filled_jobs AS (\n",
    "    SELECT\n",
    "        Period,\n",
    "        Data_value AS Filled_Jobs\n",
    "    FROM\n",
    "        employee_table\n",
    "    WHERE\n",
    "        Series_title_1 = 'Filled jobs'\n",
    "        AND \"Group\" = 'Territorial authority by employment variable'\n",
    "        AND Series_title_2 = (SELECT Territorial_Authority FROM highest_avg_filled_jobs)\n",
    ")\n",
    "SELECT\n",
    "    a.Period,\n",
    "    SUM(b.Filled_jobs) AS Cumulative_Filled_Jobs\n",
    "FROM\n",
    "    filtered_filled_jobs a\n",
    "JOIN\n",
    "    filtered_filled_jobs b\n",
    "ON\n",
    "    strftime('%Y-%m', strptime(CAST(a.Period AS VARCHAR), '%Y.%m')) >= strftime('%Y-%m', strptime(CAST(b.Period AS VARCHAR), '%Y.%m'))\n",
    "GROUP BY\n",
    "    a.Period\n",
    "ORDER BY\n",
    "    a.Period;\n",
    "\"\"\"\n",
    "\n",
    "duckdb.sql(query)\n",
    "\n",
    "# generate the markdown for the table\n",
    "# print(duckdb.sql(query).to_df().to_markdown(floatfmt=(\"\", \".2f\", \".0f\")))"
   ]
  },
  {
   "cell_type": "markdown",
   "metadata": {},
   "source": [
    "Answer:\n",
    "\n",
    "|    |   Period |   Cumulative_Filled_Jobs |\n",
    "|---:|---------:|-------------------------:|\n",
    "|  0 |  2011.06 |                   558627 |\n",
    "|  1 |  2011.09 |                  1124066 |\n",
    "|  2 |  2011.12 |                  1697795 |\n",
    "|  3 |  2012.03 |                  2258168 |\n",
    "|  4 |  2012.06 |                  2831106 |\n",
    "|  5 |  2012.09 |                  3401783 |\n",
    "|  6 |  2012.12 |                  3981507 |\n",
    "|  7 |  2013.03 |                  4556314 |\n",
    "|  8 |  2013.06 |                  5145225 |\n",
    "|  9 |  2013.09 |                  5731581 |\n",
    "| 10 |  2013.12 |                  6330161 |\n",
    "| 11 |  2014.03 |                  6922160 |\n",
    "| 12 |  2014.06 |                  7526621 |\n",
    "| 13 |  2014.09 |                  8132406 |\n",
    "| 14 |  2014.12 |                  8752492 |\n",
    "| 15 |  2015.03 |                  9367389 |\n",
    "| 16 |  2015.06 |                  9997399 |\n",
    "| 17 |  2015.09 |                 10626104 |\n",
    "| 18 |  2015.12 |                 11270280 |\n",
    "| 19 |  2016.03 |                 11909214 |\n",
    "| 20 |  2016.06 |                 12563929 |\n",
    "| 21 |  2016.09 |                 13219310 |\n",
    "| 22 |  2016.12 |                 13890926 |\n",
    "| 23 |  2017.03 |                 14557170 |\n",
    "| 24 |  2017.06 |                 15241101 |\n",
    "| 25 |  2017.09 |                 15922806 |\n",
    "| 26 |  2017.12 |                 16618464 |\n",
    "| 27 |  2018.03 |                 17316219 |\n",
    "| 28 |  2018.06 |                 18013628 |\n",
    "| 29 |  2018.09 |                 18705412 |\n",
    "| 30 |  2018.12 |                 19413967 |\n",
    "| 31 |  2019.03 |                 20117168 |\n",
    "| 32 |  2019.06 |                 20829142 |\n",
    "| 33 |  2019.09 |                 21539945 |\n",
    "| 34 |  2019.12 |                 22268793 |\n",
    "| 35 |  2020.03 |                 22990824 |\n",
    "| 36 |  2020.06 |                 23712077 |\n",
    "| 37 |  2020.09 |                 24426583 |\n",
    "| 38 |  2020.12 |                 25148075 |\n",
    "| 39 |  2021.03 |                 25863846 |\n",
    "| 40 |  2021.06 |                 26593592 |\n",
    "| 41 |  2021.09 |                 27327830 |\n",
    "| 42 |  2021.12 |                 28076457 |\n",
    "| 43 |  2022.03 |                 28818348 |\n",
    "| 44 |  2022.06 |                 29565489 |\n",
    "| 45 |  2022.09 |                 30314636 |\n",
    "| 46 |  2022.12 |                 31080627 |\n",
    "| 47 |  2023.03 |                 31847062 |\n",
    "| 48 |  2023.06 |                 32629158 |\n",
    "| 49 |  2023.09 |                 33411797 |\n",
    "| 50 |  2023.12 |                 34207477 |\n",
    "| 51 |  2024.03 |                 34995011 |\n"
   ]
  },
  {
   "cell_type": "markdown",
   "metadata": {},
   "source": [
    "### 4. "
   ]
  },
  {
   "cell_type": "markdown",
   "metadata": {},
   "source": [
    "There are a few things to try: \n",
    "\n",
    "- In general, it would be best to enforce some kind of data schema to address the issues of incorrect datatypes. For example, PySpark has the \"StructType\" and \"StructField\" objects which would allow you to define all the columns of your dataset, including the mandatory datatypes and include options such as whether NULL values are allowed. It would also be important to check for consistency with other columns as well, for example using the datasets above, we would want to ensure that in the employee dataset that only known territorial authorities are available when the group is selected as \"Territorial authority by employment variable\".\n",
    "\n",
    "- Duplicate values that are unwanted (such as from data that doesn't contain a timestamp, or in data that has duplicate IDs), can be dropped using something like the drop_duplicates method from pandas. \n",
    "\n",
    "- Missing values can be handled through imputation, however the approach differs depending on the nature of the missingness. For example, if the missing values are identified to be Not Missing At Random then it may be possible with domain knowledge to explicitly model the original process that generated the data, and then fill in the missing values that way. In contrast, if the missing values are Missing Completely At Random, then you may have to settle for a naive form of imputation such as imputing the mean, median or mode, or implement multiple imputation by using other columns in the dataset to inform the choice of value to impute.\n",
    "\n",
    "- Missing dates are slightly tricker depending on your implementation. If you are using a library such as pandas in your pipeline, then it would be simpler to use something like the reindex method to automatically impute any missing dates. Otherwise, for languages such as PySpark or SQL, you would need to try something like generating a DataFrame with all the available dates, then performing a join onto the DataFrame with the missing dates so that the missing dates are essentially \"filled\" in if there was not a match. \n",
    "  \n",
    "- It would also be wise for some fields to implement statistical integrity checks. An example of this would be checking whether or not a column comes from a normal distribution. A test for this can be implemented using something like the \"normaltest\" module from the Scipy stats library. \n",
    "  \n",
    "- Checks such as the above would best be integrated as part of the data pipeline. An example would be using a workflow orchestration library such as Apache Airflow or Prefect. Both options would allow you to define data validation checks (such as for incorrect datatypes or implementing distribution checks) as functions and use those checks on either the input or output of a transformation.\n",
    "\n",
    "<!-- - \n",
    "- For addressing as part of the data pipeline it would be best to drop duplicates i.e. pandas as the drop_duplicates() method.\n",
    "- For incorrect data types, you may want to provide a schema  -->"
   ]
  },
  {
   "cell_type": "markdown",
   "metadata": {},
   "source": [
    "### 5."
   ]
  },
  {
   "cell_type": "code",
   "execution_count": 12,
   "metadata": {},
   "outputs": [],
   "source": [
    "pd.set_option('display.max_columns', None)\n",
    "\n",
    "# read files in\n",
    "fin = pd.read_csv(\"data/business-financial-data-march-2024-csv.csv\")\n",
    "emp = pd.read_csv(\"data/machine-readable-business-employment-data-mar-2024-quarter.csv\")"
   ]
  },
  {
   "cell_type": "code",
   "execution_count": 13,
   "metadata": {},
   "outputs": [],
   "source": [
    "# join datasets together\n",
    "\n",
    "filtered_emp = emp[emp['Group'] == 'Industry by employment variable']\n",
    "pivot_emp = filtered_emp.pivot_table(index=['Period', 'Series_title_2'], columns=['Series_title_1', 'Series_title_3'], values='Data_value').reset_index()"
   ]
  },
  {
   "cell_type": "code",
   "execution_count": 14,
   "metadata": {},
   "outputs": [],
   "source": [
    "pivot_emp.columns = ['_'.join(col).strip() if col[1] else col[0] for col in pivot_emp.columns.values]"
   ]
  },
  {
   "cell_type": "code",
   "execution_count": 15,
   "metadata": {},
   "outputs": [],
   "source": [
    "filtered_fin = fin[fin['Group'] == 'Industry by financial variable (NZSIOC Level 2)']\n",
    "\n",
    "# first filter by nzsioc level 2\n",
    "pivot_fin = filtered_fin.pivot_table(index=['Period', 'Series_title_2'], columns=['Series_title_1', 'Series_title_4'], values='Data_value').reset_index()"
   ]
  },
  {
   "cell_type": "code",
   "execution_count": 16,
   "metadata": {},
   "outputs": [],
   "source": [
    "pivot_fin.columns = ['_'.join(col).strip() if col[1] else col[0] for col in pivot_fin.columns.values]"
   ]
  },
  {
   "cell_type": "code",
   "execution_count": 17,
   "metadata": {},
   "outputs": [],
   "source": [
    "# join datasets to each other\n",
    "joined = pivot_emp.merge(pivot_fin, on=['Period',\"Series_title_2\"], how=\"inner\")"
   ]
  },
  {
   "cell_type": "code",
   "execution_count": 18,
   "metadata": {},
   "outputs": [],
   "source": [
    "# read additional files in\n",
    "employers = pd.read_csv('data/enterprise-counts-march-2023-csv-tables.csv')\n",
    "employers_ind = employers[employers['Group'] == 'Enterprise Counts by Industry']"
   ]
  },
  {
   "cell_type": "code",
   "execution_count": 19,
   "metadata": {},
   "outputs": [],
   "source": [
    "joined_employers = joined.merge(employers_ind[['Period', 'Data_value', 'Series_title_2']], on=[\"Period\", \"Series_title_2\"], how=\"inner\")"
   ]
  },
  {
   "cell_type": "code",
   "execution_count": 20,
   "metadata": {},
   "outputs": [],
   "source": [
    "joined = joined_employers.rename(columns={\"Data_value\": \"Enterprise Count\", \"Series_title_2\": \"Industry\"})"
   ]
  },
  {
   "cell_type": "code",
   "execution_count": 21,
   "metadata": {},
   "outputs": [],
   "source": [
    "joined['Period'] = joined['Period'].astype(str)\n",
    "joined[['Year', 'Month']] = joined['Period'].str.split('.', expand=True)\n",
    "\n",
    "\n",
    "# Convert to categorical data types\n",
    "joined['Year'] = joined['Year'].astype('category')\n",
    "joined['Month'] = joined['Month'].astype('category')\n",
    "\n",
    "# Apply One-Hot Encoding to 'year' and 'month'\n",
    "joined_date = pd.get_dummies(joined, columns=['Year', 'Month'])"
   ]
  },
  {
   "cell_type": "code",
   "execution_count": 22,
   "metadata": {},
   "outputs": [],
   "source": [
    "industry_df = joined_date.drop('Period', axis=1)"
   ]
  },
  {
   "cell_type": "code",
   "execution_count": 23,
   "metadata": {},
   "outputs": [],
   "source": [
    "# create additional features\n",
    "\n",
    "# Jobs per enterprise\n",
    "industry_df['Jobs_per_Enterprise'] = industry_df['Filled jobs_Actual'] / industry_df['Enterprise Count']\n",
    "\n",
    "# Earnings per enterprise\n",
    "industry_df['Earnings_per_Enterprise'] = industry_df['Total earnings_Actual'] / industry_df['Enterprise Count']\n",
    "\n",
    "# Profit per enterprise\n",
    "industry_df['Profit_per_Enterprise'] = industry_df['Operating profit_Unadjusted'] / industry_df['Enterprise Count']\n",
    "\n",
    "# Expenditure per enterprise\n",
    "industry_df['Expenditure_per_Enterprise'] = industry_df['Purchases and operating expenditure_Unadjusted'] / industry_df['Enterprise Count']\n",
    "\n",
    "# Salaries and wages per enterprise\n",
    "industry_df['Salaries_per_Enterprise'] = industry_df['Salaries and wages_Unadjusted'] / industry_df['Enterprise Count']\n",
    "\n",
    "# Sales per enterprise (unadjusted)\n",
    "industry_df['Sales_per_Enterprise'] = industry_df['Sales (operating income)_Unadjusted'] / industry_df['Enterprise Count']\n"
   ]
  },
  {
   "cell_type": "code",
   "execution_count": 24,
   "metadata": {},
   "outputs": [
    {
     "name": "stdout",
     "output_type": "stream",
     "text": [
      "Industry\n",
      "Professional, Scientific and Technical Services    3576.600536\n",
      "Construction                                       3065.705714\n",
      "Retail Trade                                       2260.783261\n",
      "Wholesale Trade                                    2004.569500\n",
      "Transport, Postal and Warehousing                  1630.533750\n",
      "Health Care and Social Assistance                  1460.657929\n",
      "Accommodation and Food Services                    1221.181000\n",
      "Administrative and Support Services                1157.218500\n",
      "Other Services                                      679.470679\n",
      "Information Media and Telecommunications            616.283071\n",
      "Rental, Hiring and Real Estate Services             503.399786\n",
      "Electricity, Gas, Water and Waste Services          429.667071\n",
      "Education and Training                              337.594571\n",
      "Arts and Recreation Services                        247.932714\n",
      "Mining                                              153.025964\n",
      "Name: Salaries and wages_Unadjusted, dtype: float64\n"
     ]
    }
   ],
   "source": [
    "salaries_analysis = industry_df.groupby('Industry')['Salaries and wages_Unadjusted'].mean().sort_values(ascending=False)\n",
    "print(salaries_analysis)"
   ]
  },
  {
   "cell_type": "markdown",
   "metadata": {},
   "source": [
    "From summarising the salaries and wages we are able to see that the professional, scientific and technical services have paid out the highest salaries on average across all time (noting that the numbers are in magnitude of 6.)"
   ]
  },
  {
   "cell_type": "code",
   "execution_count": 25,
   "metadata": {},
   "outputs": [],
   "source": [
    "industry_df = pd.get_dummies(industry_df, columns=['Industry'])\n",
    "industry_df = industry_df.drop(['Filled jobs_Seasonally adjusted', 'Filled jobs_Trend', 'Sales (operating income)_Seasonally adjusted', 'Sales (operating income)_Trend'], axis=1)"
   ]
  },
  {
   "cell_type": "code",
   "execution_count": 26,
   "metadata": {},
   "outputs": [
    {
     "name": "stdout",
     "output_type": "stream",
     "text": [
      "Correlation with Total earnings_Actual:\n",
      " Salaries and wages_Unadjusted                               1.000000\n",
      "Total earnings_Actual                                       0.724328\n",
      "Sales (operating income)_Unadjusted                         0.672819\n",
      "Industry_Professional, Scientific and Technical Services    0.591539\n",
      "Filled jobs_Actual                                          0.584838\n",
      "Operating profit_Unadjusted                                 0.578688\n",
      "Purchases and operating expenditure_Unadjusted              0.567076\n",
      "Industry_Construction                                       0.460025\n",
      "Enterprise Count                                            0.384663\n",
      "Industry_Retail Trade                                       0.227656\n",
      "Industry_Wholesale Trade                                    0.186869\n",
      "Year_2022                                                   0.106534\n",
      "Industry_Transport, Postal and Warehousing                  0.090586\n",
      "Year_2023                                                   0.062110\n",
      "Year_2021                                                   0.048114\n",
      "Industry_Health Care and Social Assistance                  0.046856\n",
      "Month_12                                                    0.024743\n",
      "Month_03                                                    0.006334\n",
      "Year_2020                                                  -0.001975\n",
      "Year_2019                                                  -0.006623\n",
      "Month_09                                                   -0.010214\n",
      "Industry_Accommodation and Food Services                   -0.013317\n",
      "Month_06                                                   -0.021000\n",
      "Industry_Administrative and Support Services               -0.031254\n",
      "Year_2018                                                  -0.034689\n",
      "Year_2017                                                  -0.073068\n",
      "Year_2016                                                  -0.088378\n",
      "Expenditure_per_Enterprise                                 -0.139675\n",
      "Industry_Other Services                                    -0.154235\n",
      "Industry_Information Media and Telecommunications          -0.170501\n",
      "Sales_per_Enterprise                                       -0.190614\n",
      "Industry_Rental, Hiring and Real Estate Services           -0.199559\n",
      "Salaries_per_Enterprise                                    -0.204717\n",
      "Industry_Electricity, Gas, Water and Waste Services        -0.218539\n",
      "Industry_Education and Training                            -0.242241\n",
      "Industry_Arts and Recreation Services                      -0.265321\n",
      "Industry_Mining                                            -0.289752\n",
      "Profit_per_Enterprise                                      -0.300502\n",
      "Jobs_per_Enterprise                                        -0.335850\n",
      "Earnings_per_Enterprise                                    -0.353386\n",
      "Name: Salaries and wages_Unadjusted, dtype: float64\n"
     ]
    }
   ],
   "source": [
    "# Correlation matrix\n",
    "correlation_matrix = industry_df.corr()\n",
    "\n",
    "# Correlation with Total earnings_Actual\n",
    "correlation_with_earnings = correlation_matrix['Salaries and wages_Unadjusted'].sort_values(ascending=False)\n",
    "print(\"Correlation with Total earnings_Actual:\\n\", correlation_with_earnings)"
   ]
  },
  {
   "cell_type": "markdown",
   "metadata": {},
   "source": [
    "We can see that there are a few variables, such as total earnings actual, sales (operating income)_unadjusted, that are positively correlated and some that are negatively correlated, such as earnings per enterprise.\n",
    "\n",
    "We want to fit a model to be able to see to be able to predict what the salary would be given the information from the business data. We choose Lasso regression for this problem, as we are also interested in performing feature selection so that only the most critical features remain in regards to predictive performance (Lasso regression is capable of zeroing out the weights of unimportant features)."
   ]
  },
  {
   "cell_type": "code",
   "execution_count": 27,
   "metadata": {},
   "outputs": [],
   "source": [
    "from sklearn.model_selection import train_test_split\n",
    "from sklearn.linear_model import Lasso\n",
    "from sklearn.preprocessing import StandardScaler\n",
    "from sklearn.model_selection import GridSearchCV\n",
    "from sklearn.metrics import root_mean_squared_error, r2_score\n",
    "import matplotlib.pyplot as plt\n",
    "import seaborn as sns"
   ]
  },
  {
   "cell_type": "code",
   "execution_count": 28,
   "metadata": {},
   "outputs": [],
   "source": [
    "X = industry_df.drop(columns=['Salaries and wages_Unadjusted'])\n",
    "y = industry_df['Salaries and wages_Unadjusted']\n",
    "\n",
    "# Split the data into training and testing sets\n",
    "X_train, X_test, y_train, y_test = train_test_split(X, y, test_size=0.2, random_state=42)"
   ]
  },
  {
   "cell_type": "code",
   "execution_count": 29,
   "metadata": {},
   "outputs": [],
   "source": [
    "# Standardize the features\n",
    "scaler = StandardScaler()\n",
    "X_train_scaled = scaler.fit_transform(X_train)\n",
    "X_test_scaled = scaler.fit_transform(X_test)\n",
    "\n",
    "# Standardize the target variable\n",
    "scaler_y = StandardScaler()\n",
    "y_train_scaled = scaler_y.fit_transform(y_train.values.reshape(-1, 1)).flatten()\n",
    "y_test_scaled = scaler_y.transform(y_test.values.reshape(-1, 1)).flatten()"
   ]
  },
  {
   "cell_type": "code",
   "execution_count": 30,
   "metadata": {},
   "outputs": [
    {
     "name": "stdout",
     "output_type": "stream",
     "text": [
      "Best parameters for Lasso regression: {'alpha': 0.1}\n",
      "Best score for Lasso regression: 0.09195230948356982\n"
     ]
    }
   ],
   "source": [
    "# Define the parameter grid for Lasso regression\n",
    "param_grid_lasso = {'alpha': [0.1, 1, 10, 100]}\n",
    "\n",
    "# Initialize Lasso regression model\n",
    "lasso = Lasso()\n",
    "\n",
    "# Initialize GridSearchCV for Lasso regression\n",
    "grid_search_lasso = GridSearchCV(estimator=lasso, param_grid=param_grid_lasso, cv=5, scoring='neg_mean_squared_error')\n",
    "grid_search_lasso.fit(X_train_scaled, y_train_scaled)\n",
    "\n",
    "# Best parameters and score for Lasso regression\n",
    "print(\"Best parameters for Lasso regression:\", grid_search_lasso.best_params_)\n",
    "print(\"Best score for Lasso regression:\", -grid_search_lasso.best_score_)# y_test_scaled"
   ]
  },
  {
   "cell_type": "code",
   "execution_count": 31,
   "metadata": {},
   "outputs": [
    {
     "name": "stdout",
     "output_type": "stream",
     "text": [
      "Lasso Regression - Root Mean Squared Error (MSE): 328.3849087160721\n",
      "Lasso Regression - R^2 Score: 0.912038599931091\n"
     ]
    }
   ],
   "source": [
    "# Use the best Lasso model to make predictions\n",
    "best_lasso_model = grid_search_lasso.best_estimator_\n",
    "y_pred_lasso_scaled = best_lasso_model.predict(X_test_scaled)\n",
    "\n",
    "# Inverse transform the predictions to the original scale\n",
    "y_pred_lasso = scaler_y.inverse_transform(y_pred_lasso_scaled.reshape(-1, 1)).flatten()\n",
    "\n",
    "# Evaluate the Lasso model\n",
    "rmse_lasso = root_mean_squared_error(y_test, y_pred_lasso)\n",
    "r2_lasso = r2_score(y_test, y_pred_lasso)\n",
    "print(f\"Lasso Regression - Root Mean Squared Error (MSE): {rmse_lasso}\")\n",
    "print(f\"Lasso Regression - R^2 Score: {r2_lasso}\")"
   ]
  },
  {
   "cell_type": "code",
   "execution_count": 32,
   "metadata": {},
   "outputs": [
    {
     "data": {
      "image/png": "[encoded data removed]",
      "text/plain": [
       "<Figure size 1000x600 with 1 Axes>"
      ]
     },
     "metadata": {},
     "output_type": "display_data"
    }
   ],
   "source": [
    "# Get the coefficients of the model\n",
    "coefficients = best_lasso_model.coef_\n",
    "features = X.columns\n",
    "\n",
    "# Create a DataFrame for visualization\n",
    "importance_df = pd.DataFrame({'Feature': features, 'Coefficient': coefficients})\n",
    "importance_df = importance_df.sort_values(by='Coefficient', ascending=False)\n",
    "\n",
    "# Plot feature importance\n",
    "plt.figure(figsize=(10, 6))\n",
    "sns.barplot(x='Coefficient', y='Feature', data=importance_df)\n",
    "plt.title('Feature Importance for Predicting Salaries and Wages')\n",
    "plt.show()"
   ]
  },
  {
   "cell_type": "code",
   "execution_count": 33,
   "metadata": {},
   "outputs": [
    {
     "data": {
      "text/html": [
       "<div>\n",
       "<style scoped>\n",
       "    .dataframe tbody tr th:only-of-type {\n",
       "        vertical-align: middle;\n",
       "    }\n",
       "\n",
       "    .dataframe tbody tr th {\n",
       "        vertical-align: top;\n",
       "    }\n",
       "\n",
       "    .dataframe thead th {\n",
       "        text-align: right;\n",
       "    }\n",
       "</style>\n",
       "<table border=\"1\" class=\"dataframe\">\n",
       "  <thead>\n",
       "    <tr style=\"text-align: right;\">\n",
       "      <th></th>\n",
       "      <th>Feature</th>\n",
       "      <th>Coefficient</th>\n",
       "    </tr>\n",
       "  </thead>\n",
       "  <tbody>\n",
       "    <tr>\n",
       "      <th>1</th>\n",
       "      <td>Total earnings_Actual</td>\n",
       "      <td>0.354893</td>\n",
       "    </tr>\n",
       "    <tr>\n",
       "      <th>34</th>\n",
       "      <td>Industry_Professional, Scientific and Technica...</td>\n",
       "      <td>0.324700</td>\n",
       "    </tr>\n",
       "    <tr>\n",
       "      <th>4</th>\n",
       "      <td>Sales (operating income)_Unadjusted</td>\n",
       "      <td>0.323048</td>\n",
       "    </tr>\n",
       "    <tr>\n",
       "      <th>27</th>\n",
       "      <td>Industry_Construction</td>\n",
       "      <td>0.159386</td>\n",
       "    </tr>\n",
       "    <tr>\n",
       "      <th>37</th>\n",
       "      <td>Industry_Transport, Postal and Warehousing</td>\n",
       "      <td>0.026973</td>\n",
       "    </tr>\n",
       "    <tr>\n",
       "      <th>21</th>\n",
       "      <td>Expenditure_per_Enterprise</td>\n",
       "      <td>-0.000000</td>\n",
       "    </tr>\n",
       "    <tr>\n",
       "      <th>22</th>\n",
       "      <td>Salaries_per_Enterprise</td>\n",
       "      <td>-0.000000</td>\n",
       "    </tr>\n",
       "    <tr>\n",
       "      <th>23</th>\n",
       "      <td>Sales_per_Enterprise</td>\n",
       "      <td>-0.000000</td>\n",
       "    </tr>\n",
       "    <tr>\n",
       "      <th>24</th>\n",
       "      <td>Industry_Accommodation and Food Services</td>\n",
       "      <td>0.000000</td>\n",
       "    </tr>\n",
       "    <tr>\n",
       "      <th>25</th>\n",
       "      <td>Industry_Administrative and Support Services</td>\n",
       "      <td>0.000000</td>\n",
       "    </tr>\n",
       "    <tr>\n",
       "      <th>26</th>\n",
       "      <td>Industry_Arts and Recreation Services</td>\n",
       "      <td>-0.000000</td>\n",
       "    </tr>\n",
       "    <tr>\n",
       "      <th>0</th>\n",
       "      <td>Filled jobs_Actual</td>\n",
       "      <td>0.000000</td>\n",
       "    </tr>\n",
       "    <tr>\n",
       "      <th>29</th>\n",
       "      <td>Industry_Electricity, Gas, Water and Waste Ser...</td>\n",
       "      <td>-0.000000</td>\n",
       "    </tr>\n",
       "    <tr>\n",
       "      <th>20</th>\n",
       "      <td>Profit_per_Enterprise</td>\n",
       "      <td>-0.000000</td>\n",
       "    </tr>\n",
       "    <tr>\n",
       "      <th>31</th>\n",
       "      <td>Industry_Information Media and Telecommunications</td>\n",
       "      <td>-0.000000</td>\n",
       "    </tr>\n",
       "    <tr>\n",
       "      <th>32</th>\n",
       "      <td>Industry_Mining</td>\n",
       "      <td>-0.000000</td>\n",
       "    </tr>\n",
       "    <tr>\n",
       "      <th>33</th>\n",
       "      <td>Industry_Other Services</td>\n",
       "      <td>-0.000000</td>\n",
       "    </tr>\n",
       "    <tr>\n",
       "      <th>35</th>\n",
       "      <td>Industry_Rental, Hiring and Real Estate Services</td>\n",
       "      <td>-0.000000</td>\n",
       "    </tr>\n",
       "    <tr>\n",
       "      <th>36</th>\n",
       "      <td>Industry_Retail Trade</td>\n",
       "      <td>0.000000</td>\n",
       "    </tr>\n",
       "    <tr>\n",
       "      <th>30</th>\n",
       "      <td>Industry_Health Care and Social Assistance</td>\n",
       "      <td>-0.000000</td>\n",
       "    </tr>\n",
       "    <tr>\n",
       "      <th>38</th>\n",
       "      <td>Industry_Wholesale Trade</td>\n",
       "      <td>-0.000000</td>\n",
       "    </tr>\n",
       "    <tr>\n",
       "      <th>10</th>\n",
       "      <td>Year_2020</td>\n",
       "      <td>-0.000000</td>\n",
       "    </tr>\n",
       "    <tr>\n",
       "      <th>3</th>\n",
       "      <td>Purchases and operating expenditure_Unadjusted</td>\n",
       "      <td>0.000000</td>\n",
       "    </tr>\n",
       "    <tr>\n",
       "      <th>16</th>\n",
       "      <td>Month_09</td>\n",
       "      <td>-0.000000</td>\n",
       "    </tr>\n",
       "    <tr>\n",
       "      <th>15</th>\n",
       "      <td>Month_06</td>\n",
       "      <td>0.000000</td>\n",
       "    </tr>\n",
       "    <tr>\n",
       "      <th>14</th>\n",
       "      <td>Month_03</td>\n",
       "      <td>-0.000000</td>\n",
       "    </tr>\n",
       "    <tr>\n",
       "      <th>13</th>\n",
       "      <td>Year_2023</td>\n",
       "      <td>-0.000000</td>\n",
       "    </tr>\n",
       "    <tr>\n",
       "      <th>12</th>\n",
       "      <td>Year_2022</td>\n",
       "      <td>0.000000</td>\n",
       "    </tr>\n",
       "    <tr>\n",
       "      <th>2</th>\n",
       "      <td>Operating profit_Unadjusted</td>\n",
       "      <td>0.000000</td>\n",
       "    </tr>\n",
       "    <tr>\n",
       "      <th>11</th>\n",
       "      <td>Year_2021</td>\n",
       "      <td>0.000000</td>\n",
       "    </tr>\n",
       "    <tr>\n",
       "      <th>17</th>\n",
       "      <td>Month_12</td>\n",
       "      <td>0.000000</td>\n",
       "    </tr>\n",
       "    <tr>\n",
       "      <th>9</th>\n",
       "      <td>Year_2019</td>\n",
       "      <td>0.000000</td>\n",
       "    </tr>\n",
       "    <tr>\n",
       "      <th>8</th>\n",
       "      <td>Year_2018</td>\n",
       "      <td>-0.000000</td>\n",
       "    </tr>\n",
       "    <tr>\n",
       "      <th>7</th>\n",
       "      <td>Year_2017</td>\n",
       "      <td>-0.000000</td>\n",
       "    </tr>\n",
       "    <tr>\n",
       "      <th>6</th>\n",
       "      <td>Year_2016</td>\n",
       "      <td>-0.000000</td>\n",
       "    </tr>\n",
       "    <tr>\n",
       "      <th>5</th>\n",
       "      <td>Enterprise Count</td>\n",
       "      <td>0.000000</td>\n",
       "    </tr>\n",
       "    <tr>\n",
       "      <th>18</th>\n",
       "      <td>Jobs_per_Enterprise</td>\n",
       "      <td>-0.001410</td>\n",
       "    </tr>\n",
       "    <tr>\n",
       "      <th>19</th>\n",
       "      <td>Earnings_per_Enterprise</td>\n",
       "      <td>-0.049162</td>\n",
       "    </tr>\n",
       "    <tr>\n",
       "      <th>28</th>\n",
       "      <td>Industry_Education and Training</td>\n",
       "      <td>-0.106705</td>\n",
       "    </tr>\n",
       "  </tbody>\n",
       "</table>\n",
       "</div>"
      ],
      "text/plain": [
       "                                              Feature  Coefficient\n",
       "1                               Total earnings_Actual     0.354893\n",
       "34  Industry_Professional, Scientific and Technica...     0.324700\n",
       "4                 Sales (operating income)_Unadjusted     0.323048\n",
       "27                              Industry_Construction     0.159386\n",
       "37         Industry_Transport, Postal and Warehousing     0.026973\n",
       "21                         Expenditure_per_Enterprise    -0.000000\n",
       "22                            Salaries_per_Enterprise    -0.000000\n",
       "23                               Sales_per_Enterprise    -0.000000\n",
       "24           Industry_Accommodation and Food Services     0.000000\n",
       "25       Industry_Administrative and Support Services     0.000000\n",
       "26              Industry_Arts and Recreation Services    -0.000000\n",
       "0                                  Filled jobs_Actual     0.000000\n",
       "29  Industry_Electricity, Gas, Water and Waste Ser...    -0.000000\n",
       "20                              Profit_per_Enterprise    -0.000000\n",
       "31  Industry_Information Media and Telecommunications    -0.000000\n",
       "32                                    Industry_Mining    -0.000000\n",
       "33                            Industry_Other Services    -0.000000\n",
       "35   Industry_Rental, Hiring and Real Estate Services    -0.000000\n",
       "36                              Industry_Retail Trade     0.000000\n",
       "30         Industry_Health Care and Social Assistance    -0.000000\n",
       "38                           Industry_Wholesale Trade    -0.000000\n",
       "10                                          Year_2020    -0.000000\n",
       "3      Purchases and operating expenditure_Unadjusted     0.000000\n",
       "16                                           Month_09    -0.000000\n",
       "15                                           Month_06     0.000000\n",
       "14                                           Month_03    -0.000000\n",
       "13                                          Year_2023    -0.000000\n",
       "12                                          Year_2022     0.000000\n",
       "2                         Operating profit_Unadjusted     0.000000\n",
       "11                                          Year_2021     0.000000\n",
       "17                                           Month_12     0.000000\n",
       "9                                           Year_2019     0.000000\n",
       "8                                           Year_2018    -0.000000\n",
       "7                                           Year_2017    -0.000000\n",
       "6                                           Year_2016    -0.000000\n",
       "5                                    Enterprise Count     0.000000\n",
       "18                                Jobs_per_Enterprise    -0.001410\n",
       "19                            Earnings_per_Enterprise    -0.049162\n",
       "28                    Industry_Education and Training    -0.106705"
      ]
     },
     "execution_count": 33,
     "metadata": {},
     "output_type": "execute_result"
    }
   ],
   "source": [
    "importance_df"
   ]
  },
  {
   "cell_type": "markdown",
   "metadata": {},
   "source": [
    "We can make a few observations:\n",
    "\n",
    "- We can see that in general high total earnings and operating sales income are good predictors of higher salaries.\n",
    "\n",
    "- Certain industries are also strong predictors, for example the professional, scientific and technical services industry is correlated with higher salaries. On the other hand, education and training is representative of lower salaries based on the negative coefficient.\n",
    "  \n",
    "- A large amount of features were removed using Lasso, including the time features and other industries. For the industries, this may mean that the total earnings were enough to represent the industry itself i.e. the industries have well defined differences in the amount of total earnings, leading there to be no differences using just those features.\n",
    "\n",
    "Overall, the results seem to imply that certain industries such as Tech or Construction result in higher salaries and wages, perhaps also acting as a proxy for total earnings. "
   ]
  }
 ],
 "metadata": {
  "kernelspec": {
   "display_name": "mle-practice-4AFla-v3-py3.11",
   "language": "python",
   "name": "python3"
  },
  "language_info": {
   "codemirror_mode": {
    "name": "ipython",
    "version": 3
   },
   "file_extension": ".py",
   "mimetype": "text/x-python",
   "name": "python",
   "nbconvert_exporter": "python",
   "pygments_lexer": "ipython3",
   "version": "3.10.12"
  }
 },
 "nbformat": 4,
 "nbformat_minor": 2
}
